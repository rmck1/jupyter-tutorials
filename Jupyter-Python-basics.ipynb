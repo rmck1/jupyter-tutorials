{
 "cells": [
  {
   "cell_type": "markdown",
   "metadata": {},
   "source": [
    "# Jupyter Notebook and Python Basics\n",
    "#### Jessica Campbell (campbell@astro.utoronto.ca)"
   ]
  },
  {
   "cell_type": "markdown",
   "metadata": {},
   "source": [
    "Welcome to the Jupyter notebook interface!\n",
    "\n",
    "As the successor to the Ipython Notebook, the Jupyter notebook is a powerful tool for interactive coding, plotting, and equation/text formatting. The name Jupyter is an acronym of the three core languages it was initially designed for: **JU**lia, **PYT**hon, and **R** (inspired by the planet Jupiter). While the Jupyter notebook now supports [many other languages](https://github.com/jupyter/jupyter/wiki/Jupyter-kernels), this course will be Python focused.\n",
    "\n",
    "Feel free to check out these handy [28 Jupyter Notebook Tips, Tricks, and Shortcuts](https://www.dataquest.io/blog/jupyter-notebook-tips-tricks-shortcuts/) or this [markdown cheatsheet](https://medium.com/ibm-data-science-experience/markdown-for-jupyter-notebooks-cheatsheet-386c05aeebed)."
   ]
  },
  {
   "cell_type": "markdown",
   "metadata": {},
   "source": [
    "### Kernels, Markdown Cells, and Code Cells"
   ]
  },
  {
   "cell_type": "markdown",
   "metadata": {},
   "source": [
    "The two main components to the Jupyter Notebook are the **kernels** and **cells**. The **kernel** is the program that runs and interpret's the user's code, which in our case is Python. The **cells** are containers for the user's text to be displayed or code to be executed by the kernel, and make up the body of the notebook. There are two types of cells: \n",
    "\n",
    "* a **markdown cell** contains simple text formatting and displays the text when executed\n",
    "* a **code cell** contains code to be executed in the kernel"
   ]
  },
  {
   "cell_type": "markdown",
   "metadata": {},
   "source": [
    "This is a markdown cell displaying simple text. Standard text formatting options apply to markdown cells, including the ability to create headers, paragraphs, bold and italic text, bulleted and numbered lists, html links, and embedded images. Let's take a look at some examples:"
   ]
  },
  {
   "cell_type": "markdown",
   "metadata": {},
   "source": [
    "# This is a level 1 header\n",
    "## This is a level 2 header\n",
    "### This is a level 3 header\n",
    "#### This is a level 4 header\n",
    "##### This is a level 5 header\n",
    "\n",
    "This is some plain text that forms a paragraph.\n",
    "\n",
    "Here we have some **bold text** as well as some *italic text*. \n",
    "\n",
    "This is anonther way to format __bold text__ and _italic text_. \n",
    "\n",
    "Lists can either be bulleted such as this one:\n",
    "\n",
    "* item 1\n",
    "* item 2\n",
    "* item 3\n",
    "\n",
    "or they can be numbered like this one:\n",
    "\n",
    "1. \n",
    "2. \n",
    "3. \n",
    "\n",
    "If you happen to know LaTex, you can directly input equations: $e^x=\\sum_{i=0}^\\infty \\frac{1}{i!}x^i$\n",
    "\n",
    "It's easy to embed html links [like so](https://xkcd.com/1758/).\n",
    "\n",
    "You can just as easily embed figures and even gifs: ![Alt text](https://i.gifer.com/WME4.gif)"
   ]
  },
  {
   "cell_type": "markdown",
   "metadata": {},
   "source": [
    "Those are markdown cells; what about code cells?"
   ]
  },
  {
   "cell_type": "markdown",
   "metadata": {},
   "source": [
    "As our Jupyter notebook's kernel will be Python, using code cells is very similar to using `ipython` in the terminal. These allow you to define and print variables, innput and export data, perform computations, analyze ad visualize data, and more. Let's start with a simple print statement in a code cell:"
   ]
  },
  {
   "cell_type": "code",
   "execution_count": 1,
   "metadata": {},
   "outputs": [
    {
     "name": "stdout",
     "output_type": "stream",
     "text": [
      "hello world!\n"
     ]
    }
   ],
   "source": [
    "# this is a code cell <-- and that is a comment\n",
    "print(\"hello world!\")"
   ]
  },
  {
   "cell_type": "markdown",
   "metadata": {},
   "source": [
    "There are two things worth noticing here:\n",
    "1. The code's output is displayed beneath the code cell\n",
    "2. Upon running the cell, the label to the left changed from `In []` to `In [1]`\n",
    "\n",
    "The latter is an easy way to distinguish between the two types of cells, as **code cells** have the label `In []` to their left whereas **markdown cells** do not. These labels stand for \"input\" and the subsequent number refers to the order in which the code cells are run by the kernel. Running the code cell again will change `In [1]` to `In [2]`. Try it!"
   ]
  },
  {
   "cell_type": "code",
   "execution_count": 2,
   "metadata": {},
   "outputs": [],
   "source": [
    "# this will put the kernel to sleep for x seconds\n",
    "import time\n",
    "time.sleep(5)"
   ]
  },
  {
   "cell_type": "markdown",
   "metadata": {},
   "source": [
    "There are two more thinngs worth noticing when a kernel is active:\n",
    "\n",
    "1. The label `In []` changes to `In [*]`\n",
    "2. The empty circle at the top right of the page next becomes solid\n",
    "\n",
    "These both make is easy to know when your code is actively running."
   ]
  },
  {
   "cell_type": "markdown",
   "metadata": {},
   "source": [
    "Once you run a code cell, the information is contained within the kernel and is accessible to all code cells. To see this, let's try defining a variable in one code cell and printing it in a separate code cell."
   ]
  },
  {
   "cell_type": "code",
   "execution_count": 3,
   "metadata": {},
   "outputs": [],
   "source": [
    "x = 5"
   ]
  },
  {
   "cell_type": "code",
   "execution_count": 4,
   "metadata": {},
   "outputs": [
    {
     "name": "stdout",
     "output_type": "stream",
     "text": [
      "5\n"
     ]
    }
   ],
   "source": [
    "print(x)"
   ]
  },
  {
   "cell_type": "markdown",
   "metadata": {},
   "source": [
    "There are two important takeaways from this:\n",
    "1. Information executed in a code cell is accessible to **all** code cells\n",
    "2. Working in the Jupyter notebook doesn't have to be linear"
   ]
  },
  {
   "cell_type": "markdown",
   "metadata": {},
   "source": [
    "While this allows you to go back and re-execute an old code cell (e.g., to correct a computational error), this highlights an important feature of the `In []` labels which can help you keep track of the order in which cells have been run."
   ]
  },
  {
   "cell_type": "markdown",
   "metadata": {},
   "source": [
    "### Python Basics: Functions, Histograms, and Plotting"
   ]
  },
  {
   "cell_type": "markdown",
   "metadata": {},
   "source": [
    "Functions are an important tool used in Python which performs an action; but only when called upon. They are initiated with the `def` command and require a set of parenthesis `()` followed by a colon `:`. The following functionn, which we will creatively call `my_function()`, will perform the simple task of a print statement."
   ]
  },
  {
   "cell_type": "code",
   "execution_count": 5,
   "metadata": {},
   "outputs": [],
   "source": [
    "def my_function():\n",
    "    '''\n",
    "    This is my function.\n",
    "    '''\n",
    "    \n",
    "    print(\"Hello world!\")"
   ]
  },
  {
   "cell_type": "markdown",
   "metadata": {},
   "source": [
    "Notice how running the code cell didn't return our print statement like before. To execute a function, _it must be called upon_."
   ]
  },
  {
   "cell_type": "code",
   "execution_count": 6,
   "metadata": {},
   "outputs": [
    {
     "name": "stdout",
     "output_type": "stream",
     "text": [
      "Hello world!\n"
     ]
    }
   ],
   "source": [
    "my_function()"
   ]
  },
  {
   "cell_type": "markdown",
   "metadata": {},
   "source": [
    "Functions commonly take inputs which are defined in the parenthesis and return an output. Let's redefine our function to take an input $x$ and return $y=x^2$:"
   ]
  },
  {
   "cell_type": "code",
   "execution_count": 7,
   "metadata": {},
   "outputs": [],
   "source": [
    "def my_function(x):\n",
    "    '''\n",
    "    This is my function.\n",
    "    '''\n",
    "    \n",
    "    y = x**2.\n",
    "    \n",
    "    return y"
   ]
  },
  {
   "cell_type": "markdown",
   "metadata": {},
   "source": [
    "Calling our function and defining our input as $x=2$ returns $x^2$:"
   ]
  },
  {
   "cell_type": "code",
   "execution_count": 8,
   "metadata": {},
   "outputs": [
    {
     "data": {
      "text/plain": [
       "4.0"
      ]
     },
     "execution_count": 8,
     "metadata": {},
     "output_type": "execute_result"
    }
   ],
   "source": [
    "my_function(2.)"
   ]
  },
  {
   "cell_type": "markdown",
   "metadata": {},
   "source": [
    "When our function outputs a `return`, we can assign this to a variable to collect and re-use it. For example, we can assign the output from the above function to a variable called `y` for reuse:"
   ]
  },
  {
   "cell_type": "code",
   "execution_count": 9,
   "metadata": {},
   "outputs": [],
   "source": [
    "y = my_function(2.)"
   ]
  },
  {
   "cell_type": "markdown",
   "metadata": {},
   "source": [
    "Notice how there was on return this time. That is because the output is saved within our new variable `y`. We can run a print statement to see what our variable contains:"
   ]
  },
  {
   "cell_type": "code",
   "execution_count": 10,
   "metadata": {},
   "outputs": [
    {
     "name": "stdout",
     "output_type": "stream",
     "text": [
      "4.0\n"
     ]
    }
   ],
   "source": [
    "print(y)"
   ]
  },
  {
   "cell_type": "markdown",
   "metadata": {},
   "source": [
    "We can even write functions to have multiple outputs. Let's re-work our function to output, say, three returns:"
   ]
  },
  {
   "cell_type": "code",
   "execution_count": 11,
   "metadata": {},
   "outputs": [],
   "source": [
    "def my_function(x):\n",
    "    '''\n",
    "    This is my function.\n",
    "    '''\n",
    "    \n",
    "    y1 = x\n",
    "    y2 = x**2.\n",
    "    y3 = x**2.\n",
    "    \n",
    "    return y1,y2,y3"
   ]
  },
  {
   "cell_type": "markdown",
   "metadata": {},
   "source": [
    "To collect all three outputs, we'll need to assign -- you guessed it -- three variables to the return:"
   ]
  },
  {
   "cell_type": "code",
   "execution_count": 12,
   "metadata": {},
   "outputs": [],
   "source": [
    "y1,y2,y3 = my_function(2.)"
   ]
  },
  {
   "cell_type": "markdown",
   "metadata": {},
   "source": [
    "Sometimes we'll want to have a throwaway variable whenn we don't necessarily need the entirety of an output. This is what the `_` was created for! Say we only needed the first output, we can use a throwaway variable for the other two:"
   ]
  },
  {
   "cell_type": "markdown",
   "metadata": {},
   "source": [
    "Alternatively, if we only needed the second:"
   ]
  },
  {
   "cell_type": "code",
   "execution_count": 13,
   "metadata": {},
   "outputs": [],
   "source": [
    "_,y2,_ = my_function(2.)"
   ]
  },
  {
   "cell_type": "markdown",
   "metadata": {},
   "source": [
    "Or, lastly, the third:"
   ]
  },
  {
   "cell_type": "code",
   "execution_count": 14,
   "metadata": {},
   "outputs": [],
   "source": [
    "_,_,y3 = my_function(2.)"
   ]
  },
  {
   "cell_type": "markdown",
   "metadata": {},
   "source": [
    "Re-working functions is a good example of where you are likely to go back in your Jupyter notebook to make edits, just make sure to run the cell when you do!"
   ]
  },
  {
   "cell_type": "markdown",
   "metadata": {},
   "source": [
    "In addition to running computations on data, you are likely going to want to visualize your data as well. First, let's create some data of `x` and `y` points:"
   ]
  },
  {
   "cell_type": "code",
   "execution_count": 15,
   "metadata": {},
   "outputs": [],
   "source": [
    "import numpy as np                # numpy is a math library\n",
    "\n",
    "x = np.linspace(0.0, 5.0)         # this creates an array of x-points\n",
    "y = np.cos(2.*np.pi*x)*np.exp(-x) # this creates an array of y-points"
   ]
  },
  {
   "cell_type": "markdown",
   "metadata": {},
   "source": [
    "Now, to visualize!"
   ]
  },
  {
   "cell_type": "code",
   "execution_count": 16,
   "metadata": {},
   "outputs": [],
   "source": [
    "import matplotlib.pyplot as plt # matplotlib is used for plotting routines"
   ]
  },
  {
   "cell_type": "markdown",
   "metadata": {},
   "source": [
    "It's very common to import packages by re-naming them to something shorter and simpler. Since we've imported `matplotlib.pyplot` as `plt`, this means that whenever we want to use this package we only have to call `plt` rather than having to type out the full package name every single time. You'll notice that there are common ways to refer to other packages as well, including referring to `numpy` as `np`, as we previously did."
   ]
  },
  {
   "cell_type": "code",
   "execution_count": 17,
   "metadata": {},
   "outputs": [
    {
     "data": {
      "image/png": "[encoded data removed]",
      "text/plain": [
       "<Figure size 432x288 with 1 Axes>"
      ]
     },
     "metadata": {
      "needs_background": "light"
     },
     "output_type": "display_data"
    }
   ],
   "source": [
    "fig  = plt.figure()      # this initializes the figure and calls it \"fig\"\n",
    "plt.plot(x,y,\"o-\")       # this plots y as a function of x -- notice how x goes first!\n",
    "plt.show()               # this asks the kernel to show the results"
   ]
  },
  {
   "cell_type": "markdown",
   "metadata": {},
   "source": [
    "Let's add some axis labels and a title \n",
    "to the figure:"
   ]
  },
  {
   "cell_type": "code",
   "execution_count": 18,
   "metadata": {},
   "outputs": [
    {
     "data": {
      "image/png": "[encoded data removed]",
      "text/plain": [
       "<Figure size 432x288 with 1 Axes>"
      ]
     },
     "metadata": {
      "needs_background": "light"
     },
     "output_type": "display_data"
    }
   ],
   "source": [
    "fig  = plt.figure()       # this initializes the figure and calls it \"fig\"\n",
    "plt.plot(x,y,\"o-\")        # this plots y as a function of x -- notice how x goes first!\n",
    "plt.xlabel(\"x\")           # x-label\n",
    "plt.ylabel(\"y\")           # y-label\n",
    "plt.title(\"My title\")     # title\n",
    "plt.show()                # this asks the kernel to show the results"
   ]
  },
  {
   "cell_type": "markdown",
   "metadata": {},
   "source": [
    "You can even use LaTeX in your labels! To do this you'll just need to add the `$` signs like you normally would:"
   ]
  },
  {
   "cell_type": "code",
   "execution_count": 19,
   "metadata": {},
   "outputs": [
    {
     "data": {
      "image/png": "[encoded data removed]",
      "text/plain": [
       "<Figure size 432x288 with 1 Axes>"
      ]
     },
     "metadata": {
      "needs_background": "light"
     },
     "output_type": "display_data"
    }
   ],
   "source": [
    "fig  = plt.figure()                  # this initializes the figure and calls it \"fig\"\n",
    "plt.plot(x,y,\"o-\")                   # this plots y as a function of x -- notice how x goes first!\n",
    "plt.xlabel(\"$x$\")                    # x-label\n",
    "plt.ylabel(\"$y=\\cos(2\\pi x)e^{-x}$\") # y-label\n",
    "plt.title(\"My title\")                # title\n",
    "plt.show()                           # this asks the kernel to show the results"
   ]
  },
  {
   "cell_type": "markdown",
   "metadata": {},
   "source": [
    "Notice how you didn't need to import `numpy` or `matplotlib` again. Once you import them into the kernel, that information will be accessible until you shut down your notebook. This is similiar to how we nonticed previously that running a code cell allows the information to be accessible to **all** code cells."
   ]
  },
  {
   "cell_type": "markdown",
   "metadata": {},
   "source": [
    "Matplotlib also allows you to make subplots:"
   ]
  },
  {
   "cell_type": "code",
   "execution_count": 20,
   "metadata": {},
   "outputs": [
    {
     "data": {
      "image/png": "[encoded data removed]",
      "text/plain": [
       "<Figure size 432x288 with 2 Axes>"
      ]
     },
     "metadata": {
      "needs_background": "light"
     },
     "output_type": "display_data"
    }
   ],
   "source": [
    "fig  = plt.figure()                  # this initializes the figure and calls it \"fig\"\n",
    "# first subplot\n",
    "ax1  = fig.add_subplot(121)          # this adds the first subplot\n",
    "plt.plot(x,y,\"o-\")                   # this plots y as a function of x -- notice how x goes first!\n",
    "plt.xlabel(\"$x$\")                    # x-label\n",
    "plt.ylabel(\"$y=\\cos(2\\pi x)e^{-x}$\") # y-label\n",
    "plt.title(\"Title 1\")                 # title\n",
    "# second subplot\n",
    "ax2  = fig.add_subplot(122)          # this adds the second subplot\n",
    "plt.plot(x,y,\"o-\")                   # this plots y as a function of x -- notice how x goes first!\n",
    "plt.xlabel(\"$x$\")                    # x-label\n",
    "plt.ylabel(\"$y=\\cos(2\\pi x)e^{-x}$\") # y-label\n",
    "plt.title(\"Title 2\")                 # title\n",
    "plt.show()                           # this asks the kernel to show the results"
   ]
  },
  {
   "cell_type": "markdown",
   "metadata": {},
   "source": [
    "Things are a little cramped, so let's change the figure size in the first line:"
   ]
  },
  {
   "cell_type": "code",
   "execution_count": 21,
   "metadata": {},
   "outputs": [
    {
     "data": {
      "image/png": "[encoded data removed]",
      "text/plain": [
       "<Figure size 1080x360 with 2 Axes>"
      ]
     },
     "metadata": {
      "needs_background": "light"
     },
     "output_type": "display_data"
    }
   ],
   "source": [
    "fig  = plt.figure(figsize=(15,5))    # this initializes the figure and calls it \"fig\"\n",
    "# first subplot\n",
    "ax1  = fig.add_subplot(121)          # this adds the first subplot\n",
    "plt.plot(x,y,\"o-\")                   # this plots y as a function of x -- notice how x goes first!\n",
    "plt.xlabel(\"$x$\")                    # x-label\n",
    "plt.ylabel(\"$y=\\cos(2\\pi x)e^{-x}$\") # y-label\n",
    "plt.title(\"Title 1\")                 # title\n",
    "# second subplot\n",
    "ax2  = fig.add_subplot(122)          # this adds the second subplot\n",
    "plt.plot(x,y,\"o-\")                   # this plots y as a function of x -- notice how x goes first!\n",
    "plt.xlabel(\"$x$\")                    # x-label\n",
    "plt.ylabel(\"$y=\\cos(2\\pi x)e^{-x}$\") # y-label\n",
    "plt.title(\"Title 2\")                 # title\n",
    "plt.show()                           # this asks the kernel to show the results"
   ]
  },
  {
   "cell_type": "markdown",
   "metadata": {},
   "source": [
    "Much better!"
   ]
  },
  {
   "cell_type": "markdown",
   "metadata": {},
   "source": [
    "You can even use functions for your plotting routines. Let's create a function called `plot` to input data `x` and `y` along with the axis labels `xlabel` and `ylabel` and a title `title`:"
   ]
  },
  {
   "cell_type": "code",
   "execution_count": 22,
   "metadata": {},
   "outputs": [],
   "source": [
    "def plot(x,y,xlabel,ylabel,title):\n",
    "    '''\n",
    "    '''\n",
    "    \n",
    "    fig  = plt.figure()\n",
    "    plt.plot(x,y,\"o-\")\n",
    "    plt.xlabel(xlabel)\n",
    "    plt.ylabel(ylabel)\n",
    "    plt.title(title)\n",
    "    plt.show()"
   ]
  },
  {
   "cell_type": "markdown",
   "metadata": {},
   "source": [
    "Let's now call this function on the same data we've been plotting and see what the output is:"
   ]
  },
  {
   "cell_type": "code",
   "execution_count": 23,
   "metadata": {},
   "outputs": [
    {
     "data": {
      "image/png": "[encoded data removed]",
      "text/plain": [
       "<Figure size 432x288 with 1 Axes>"
      ]
     },
     "metadata": {
      "needs_background": "light"
     },
     "output_type": "display_data"
    }
   ],
   "source": [
    "plot(x,y,\"$x$\",\"$y=\\cos(2\\pi x)e^{-x}$\",\"My Title\")"
   ]
  },
  {
   "cell_type": "markdown",
   "metadata": {},
   "source": [
    "Voila!"
   ]
  },
  {
   "cell_type": "markdown",
   "metadata": {},
   "source": [
    "### Astronomical and Physical Constants, and Unit Conversions"
   ]
  },
  {
   "cell_type": "markdown",
   "metadata": {},
   "source": [
    "Since there are many astronomical and physical constants that are needed for our calculations, `astropy` is a relevant package worth knowing about. There are many things that `astropy` can be used for but we will focus on the use of astronomial and physical constants in the `constants` subpackage. From the [astropy.constants webpage](https://docs.astropy.org/en/stable/constants/) you can see that there are many contants available which are outlined below:"
   ]
  },
  {
   "cell_type": "markdown",
   "metadata": {},
   "source": [
    "|   Name   |      Value     | Unit         |                  Description                    |\n",
    "|----------|----------------|--------------|:------------------------------------------------|\n",
    "|     `G`    | 6.6743e-11     | m3 / (kg s2) |  Gravitational constant                         |\n",
    "|   `N_A`    | 6.02214076e+23 | 1 / (mol)    |  Avogadro’s number                              |\n",
    "|     `R`    | 8.31446262     | J / (K mol)  |  Gas constant                                   |\n",
    "|   `Ryd`    | 10973731.6     | 1 / (m)      |  Rydberg constant                               |\n",
    "|    `a0`    | 5.29177211e-11 | m            |  Bohr radius                                    |\n",
    "|  `alpha`   | 0.00729735257  |              |  Fine-structure constant                        |\n",
    "|   `atm`    | 101325         | Pa           |  Standard atmosphere                            |\n",
    "|  `b_wien`  | 0.00289777196  | m K          |  Wien wavelength displacement law constant      |\n",
    "|    `c`     | 299792458      | m / (s)      |  Speed of light in vacuum                       |\n",
    "|    `e`     | 1.60217663e-19 | C            |  Electron charge                                |\n",
    "|   `eps0`   | 8.85418781e-12 | F/m          |  Vacuum electric permittivity                   |\n",
    "|    `g0`    | 9.80665        | m / s2       |  Standard acceleration of gravity               |\n",
    "|    `h`     | 6.62607015e-34 | J s          |  Planck constant                                |\n",
    "|   `hbar`   | 1.05457182e-34 | J s          |  Reduced Planck constant                        |\n",
    "|   `k_B`    | 1.380649e-23   | J / (K)      |  Boltzmann constant                             |\n",
    "|   `m_e`    | 9.1093837e-31  | kg           |  Electron mass                                  |\n",
    "|   `m_n`    | 1.6749275e-27  | kg           |  Neutron mass                                   |\n",
    "|   `m_p`    | 1.67262192e-27 | kg           |  Proton mass                                    |\n",
    "|   `mu0`    | 1.25663706e-06 | N/A2         |  Vacuum magnetic permeability                   |\n",
    "|   `muB`    | 9.27401008e-24 | J/T          |  Bohr magneton                                  |\n",
    "| `sigma_T`  | 6.65245873e-29 | m2           |  Thomson scattering cross-section               |\n",
    "| `sigma_sb` | 5.67037442e-08 | W / (K4 m2)  |  Stefan-Boltzmann constant                      |\n",
    "|    `u`     | 1.66053907e-27 | kg           |  Atomic mass                                    |\n",
    "| `GM_earth` | 3.986004e+14   | m3 / (s2)    |  Nominal Earth mass parameter                   |\n",
    "|  `GM_jup`  | 1.2668653e+17  | m3 / (s2)    |  Nominal Jupiter mass parameter                 |\n",
    "|  `GM_sun`  | 1.3271244e+20  | m3 / (s2)    |  Nominal solar mass parameter                   |\n",
    "|  `L_bol0`  | 3.0128e+28     | W            |  Luminosity for absolute bolometric magnitude 0 |\n",
    "|  `L_sun`   | 3.828e+26      | W            |  Nominal solar luminosity                       |\n",
    "|  `M_earth` | 5.97216787e+24 | kg           |  Earth mass                                     |\n",
    "|   `M_jup`  | 1.8981246e+27  | kg           |  Jupiter mass                                   |\n",
    "|   `M_sun`  | 1.98840987e+30 | kg           |  Solar mass                                     |\n",
    "|  `R_earth` | 6378100        | m            |  Nominal Earth equatorial radius                |\n",
    "|   `R_jup`  | 71492000       | m            |  Nominal Jupiter equatorial radius              |\n",
    "|   `R_sun`  | 695700000      | m            |  Nominal solar radius                           |\n",
    "|    `au`    | 1.49597871e+11 | m            |  Astronomical Unit                              |\n",
    "|   `kpc`    | 3.08567758e+19 | m            |  Kiloparsec                                     |\n",
    "|    `pc`    | 3.08567758e+16 | m            |  Parsec                                         |"
   ]
  },
  {
   "cell_type": "markdown",
   "metadata": {},
   "source": [
    "It's easiest to see how this works by looking at an example. Let's start by taking a look at one of the most common constants, the solar mass. We'll start by importing the `astropy.constants` subpackage:"
   ]
  },
  {
   "cell_type": "code",
   "execution_count": 24,
   "metadata": {},
   "outputs": [],
   "source": [
    "from astropy import constants as const"
   ]
  },
  {
   "cell_type": "markdown",
   "metadata": {},
   "source": [
    "To extract the constants that we want, we'll call them from the subpackage which we've redefined as `const`. From the first column in the table above, you'll see that the solar mass constant has the name `M_sun` which can be used to pull this information like so:"
   ]
  },
  {
   "cell_type": "code",
   "execution_count": 25,
   "metadata": {},
   "outputs": [
    {
     "data": {
      "text/latex": [
       "$1.9884754 \\times 10^{30} \\; \\mathrm{kg}$"
      ],
      "text/plain": [
       "<<class 'astropy.constants.iau2015.IAU2015'> name='Solar mass' value=1.9884754153381438e+30 uncertainty=9.236140093538353e+25 unit='kg' reference='IAU 2015 Resolution B 3 + CODATA 2014'>"
      ]
     },
     "execution_count": 25,
     "metadata": {},
     "output_type": "execute_result"
    }
   ],
   "source": [
    "const.M_sun"
   ]
  },
  {
   "cell_type": "markdown",
   "metadata": {},
   "source": [
    "Notice how `astropy.constants` not only provides the value of the constant but provides the units as well. This will be extremely handy when working through calculations to make sure that your units are consistent (more on this after). If you only want the value of your constant you can drop the units by calling `.value`:"
   ]
  },
  {
   "cell_type": "code",
   "execution_count": 26,
   "metadata": {},
   "outputs": [
    {
     "data": {
      "text/plain": [
       "1.9884754153381438e+30"
      ]
     },
     "execution_count": 26,
     "metadata": {},
     "output_type": "execute_result"
    }
   ],
   "source": [
    "const.M_sun.value"
   ]
  },
  {
   "cell_type": "markdown",
   "metadata": {},
   "source": [
    "Alternatively, you can also pull just the dimensions from the constant:"
   ]
  },
  {
   "cell_type": "code",
   "execution_count": 27,
   "metadata": {},
   "outputs": [
    {
     "data": {
      "text/latex": [
       "$\\mathrm{kg}$"
      ],
      "text/plain": [
       "Unit(\"kg\")"
      ]
     },
     "execution_count": 27,
     "metadata": {},
     "output_type": "execute_result"
    }
   ],
   "source": [
    "const.M_sun.unit"
   ]
  },
  {
   "cell_type": "markdown",
   "metadata": {},
   "source": [
    "Having the units accessible is useful for a couple of reasons. For one, you can easily convert from one set of units to another. As you can see from above, the solar mass constant is in the units of kilograms but it's simple to convert this to grams:"
   ]
  },
  {
   "cell_type": "code",
   "execution_count": 28,
   "metadata": {},
   "outputs": [
    {
     "data": {
      "text/latex": [
       "$1.9884754 \\times 10^{33} \\; \\mathrm{g}$"
      ],
      "text/plain": [
       "<Quantity 1.98847542e+33 g>"
      ]
     },
     "execution_count": 28,
     "metadata": {},
     "output_type": "execute_result"
    }
   ],
   "source": [
    "const.M_sun.to(\"g\")"
   ]
  },
  {
   "cell_type": "markdown",
   "metadata": {},
   "source": [
    "While this is a simple and perhaps obvious example, its strength lies in the ability to change `any` quantity from one set of units to another so long as they are consistent."
   ]
  },
  {
   "cell_type": "markdown",
   "metadata": {},
   "source": [
    "If you're working with scalars for which you'd like to add unnits to, you can also do this with `astropy` using another subpackage called `units` which we can import like so:"
   ]
  },
  {
   "cell_type": "code",
   "execution_count": 29,
   "metadata": {},
   "outputs": [],
   "source": [
    "from astropy import units as u"
   ]
  },
  {
   "cell_type": "markdown",
   "metadata": {},
   "source": [
    "Say we have a variable $r$ which has a value of 10 km, we can add units by multiplying our variable with the units we want to add:"
   ]
  },
  {
   "cell_type": "code",
   "execution_count": 30,
   "metadata": {},
   "outputs": [
    {
     "name": "stdout",
     "output_type": "stream",
     "text": [
      "10.0 km\n"
     ]
    }
   ],
   "source": [
    "r = 10. * u.kilometer\n",
    "print(r)"
   ]
  },
  {
   "cell_type": "markdown",
   "metadata": {},
   "source": [
    "Let's see how all of this works together by calculating the **solar constant** as an example."
   ]
  },
  {
   "cell_type": "code",
   "execution_count": 31,
   "metadata": {},
   "outputs": [
    {
     "name": "stdout",
     "output_type": "stream",
     "text": [
      "The solar luminosity is 3.828e+26 in units of W\n",
      "The Earth-moon distance is 149597870700.0 in units of m\n"
     ]
    }
   ],
   "source": [
    "L_sun = const.L_sun  # solar constant\n",
    "r     = const.au     # distance between the Earth and Sun\n",
    "\n",
    "# print to double-check units\n",
    "print(\"The solar luminosity is %s in units of %s\" % (L_sun.value,L_sun.unit))\n",
    "print(\"The Earth-moon distance is %s in units of %s\" % (r.value,r.unit))"
   ]
  },
  {
   "cell_type": "markdown",
   "metadata": {},
   "source": [
    "The solar luminosity units are in Watts, but the Earth-Moon distance is in $\\mathrm{km}$ which will need to be converted to $\\mathrm{cm}$ first."
   ]
  },
  {
   "cell_type": "code",
   "execution_count": 32,
   "metadata": {},
   "outputs": [
    {
     "name": "stdout",
     "output_type": "stream",
     "text": [
      "0.13611664654085756 W / cm2\n"
     ]
    }
   ],
   "source": [
    "F = L_sun/(4.*np.pi*r.to(\"cm\")**2.)\n",
    "\n",
    "print(F)"
   ]
  },
  {
   "cell_type": "markdown",
   "metadata": {},
   "source": [
    "As you can see, the units are conveninently followed through when they're used in equations. However, these units are currently in $\\mathrm{W\\,m^{-2}}$ but the solar constant in cgs units is expressed in units of $\\mathrm{erg\\,s^{-1}\\,cm^{-2}}$ so let's do a little conversion:"
   ]
  },
  {
   "cell_type": "code",
   "execution_count": 33,
   "metadata": {},
   "outputs": [
    {
     "data": {
      "text/latex": [
       "$1361166.5 \\; \\mathrm{\\frac{erg}{s\\,cm^{2}}}$"
      ],
      "text/plain": [
       "<Quantity 1361166.46540858 erg / (cm2 s)>"
      ]
     },
     "execution_count": 33,
     "metadata": {},
     "output_type": "execute_result"
    }
   ],
   "source": [
    "F.to(\"erg s^-1 cm^-2\")"
   ]
  },
  {
   "cell_type": "markdown",
   "metadata": {},
   "source": [
    "This is consistent with the solar flux constant of $1.360\\times10^6\\,\\mathrm{erg\\,s^{-1}\\,cm^{-2}}$."
   ]
  },
  {
   "cell_type": "markdown",
   "metadata": {},
   "source": [
    "As you continue to use Python for more advanced calculations, `astropy.constants` and `astropy.units` will become increasingly more helpful for double-checking your units and knowing if/when a factor is missing in addition to being able to easily convert between unit conventions (e.g., cgs to SI or vice versa)."
   ]
  },
  {
   "cell_type": "code",
   "execution_count": null,
   "metadata": {},
   "outputs": [],
   "source": []
  }
 ],
 "metadata": {
  "kernelspec": {
   "display_name": "Python 3",
   "language": "python",
   "name": "python3"
  },
  "language_info": {
   "codemirror_mode": {
    "name": "ipython",
    "version": 3
   },
   "file_extension": ".py",
   "mimetype": "text/x-python",
   "name": "python",
   "nbconvert_exporter": "python",
   "pygments_lexer": "ipython3",
   "version": "3.7.3"
  }
 },
 "nbformat": 4,
 "nbformat_minor": 2
}
